{
 "cells": [
  {
   "cell_type": "markdown",
   "metadata": {},
   "source": [
    "# Scraper de las url para PBD1"
   ]
  },
  {
   "cell_type": "markdown",
   "metadata": {},
   "source": [
    "La url de prueba de la cual se va a realizar el scraper es la siguiente:"
   ]
  },
  {
   "cell_type": "markdown",
   "metadata": {},
   "source": [
    "https://adamprotectora.org/listado"
   ]
  },
  {
   "cell_type": "code",
   "execution_count": 2,
   "metadata": {},
   "outputs": [],
   "source": [
    "# Importación de las librerías a utilizar:\n",
    "import requests\n",
    "import urllib\n",
    "import pandas as pd\n",
    "from lxml import html # lxml es para parsear html"
   ]
  },
  {
   "cell_type": "code",
   "execution_count": 31,
   "metadata": {},
   "outputs": [
    {
     "name": "stdout",
     "output_type": "stream",
     "text": [
      "['  ♂ Macho', '  ♂ Macho', '  ♂ Macho', '  ♂ Macho', '  ♂ Macho', '  ♂ Macho']\n"
     ]
    }
   ],
   "source": [
    "# Proceso de web scraping\n",
    "pagina= requests.get('https://adamprotectora.org/listado')\n",
    "arbol_html= html.fromstring(pagina.text)\n",
    "codigos= arbol_html.xpath(\"//*[@id='principal_contenidos']/div\")\n",
    "objeto_edad= arbol_html.xpath(\"//*[@id='principal_contenidos']/div/div/div[1]/p[1]/text()\")\n",
    "objeto_raza= arbol_html.xpath(\"//*[@id='principal_contenidos']/div/div/div[1]/p[2]/text()\")\n",
    "objeto_sexo= arbol_html.xpath(\"//*[@id='principal_contenidos']/div/div/div[1]/p[3]/text()\")"
   ]
  },
  {
   "cell_type": "code",
   "execution_count": 33,
   "metadata": {},
   "outputs": [
    {
     "name": "stdout",
     "output_type": "stream",
     "text": [
      "[[' 2 años', ' 2 años y 1 mes', ' 3 años y 4 meses', ' 4 años y 5 meses', ' 9 años', ' 11 años'], [' x pastor border colie', ' x american stanfford con ... ?', ' xlabrador', ' pastor aleman', ' american staffordshire', ' x american sttafford'], ['  ♂ Macho', '  ♂ Macho', '  ♂ Macho', '  ♂ Macho', '  ♂ Macho', '  ♂ Macho']]\n"
     ]
    }
   ],
   "source": [
    "# Array para creación del DataFrame de los datos obtenidos\n",
    "array_datos= [objeto_edad,objeto_raza,objeto_sexo]\n",
    "print(array_datos)"
   ]
  },
  {
   "cell_type": "code",
   "execution_count": 35,
   "metadata": {},
   "outputs": [
    {
     "data": {
      "text/html": [
       "<div>\n",
       "<style scoped>\n",
       "    .dataframe tbody tr th:only-of-type {\n",
       "        vertical-align: middle;\n",
       "    }\n",
       "\n",
       "    .dataframe tbody tr th {\n",
       "        vertical-align: top;\n",
       "    }\n",
       "\n",
       "    .dataframe thead th {\n",
       "        text-align: right;\n",
       "    }\n",
       "</style>\n",
       "<table border=\"1\" class=\"dataframe\">\n",
       "  <thead>\n",
       "    <tr style=\"text-align: right;\">\n",
       "      <th></th>\n",
       "      <th>0</th>\n",
       "      <th>1</th>\n",
       "      <th>2</th>\n",
       "    </tr>\n",
       "  </thead>\n",
       "  <tbody>\n",
       "    <tr>\n",
       "      <th>0</th>\n",
       "      <td>2 años</td>\n",
       "      <td>x pastor border colie</td>\n",
       "      <td>♂ Macho</td>\n",
       "    </tr>\n",
       "    <tr>\n",
       "      <th>1</th>\n",
       "      <td>2 años y 1 mes</td>\n",
       "      <td>x american stanfford con ... ?</td>\n",
       "      <td>♂ Macho</td>\n",
       "    </tr>\n",
       "    <tr>\n",
       "      <th>2</th>\n",
       "      <td>3 años y 4 meses</td>\n",
       "      <td>xlabrador</td>\n",
       "      <td>♂ Macho</td>\n",
       "    </tr>\n",
       "    <tr>\n",
       "      <th>3</th>\n",
       "      <td>4 años y 5 meses</td>\n",
       "      <td>pastor aleman</td>\n",
       "      <td>♂ Macho</td>\n",
       "    </tr>\n",
       "    <tr>\n",
       "      <th>4</th>\n",
       "      <td>9 años</td>\n",
       "      <td>american staffordshire</td>\n",
       "      <td>♂ Macho</td>\n",
       "    </tr>\n",
       "    <tr>\n",
       "      <th>5</th>\n",
       "      <td>11 años</td>\n",
       "      <td>x american sttafford</td>\n",
       "      <td>♂ Macho</td>\n",
       "    </tr>\n",
       "  </tbody>\n",
       "</table>\n",
       "</div>"
      ],
      "text/plain": [
       "                   0                                1          2\n",
       "0             2 años            x pastor border colie    ♂ Macho\n",
       "1     2 años y 1 mes   x american stanfford con ... ?    ♂ Macho\n",
       "2   3 años y 4 meses                        xlabrador    ♂ Macho\n",
       "3   4 años y 5 meses                    pastor aleman    ♂ Macho\n",
       "4             9 años           american staffordshire    ♂ Macho\n",
       "5            11 años             x american sttafford    ♂ Macho"
      ]
     },
     "execution_count": 35,
     "metadata": {},
     "output_type": "execute_result"
    }
   ],
   "source": [
    "# Paso de array a DataFrame\n",
    "df= pd.DataFrame(array_datos).transpose()\n",
    "df"
   ]
  },
  {
   "cell_type": "code",
   "execution_count": 39,
   "metadata": {},
   "outputs": [
    {
     "data": {
      "text/html": [
       "<div>\n",
       "<style scoped>\n",
       "    .dataframe tbody tr th:only-of-type {\n",
       "        vertical-align: middle;\n",
       "    }\n",
       "\n",
       "    .dataframe tbody tr th {\n",
       "        vertical-align: top;\n",
       "    }\n",
       "\n",
       "    .dataframe thead th {\n",
       "        text-align: right;\n",
       "    }\n",
       "</style>\n",
       "<table border=\"1\" class=\"dataframe\">\n",
       "  <thead>\n",
       "    <tr style=\"text-align: right;\">\n",
       "      <th></th>\n",
       "      <th>Edad</th>\n",
       "      <th>Raza</th>\n",
       "      <th>Sexo</th>\n",
       "    </tr>\n",
       "  </thead>\n",
       "  <tbody>\n",
       "    <tr>\n",
       "      <th>0</th>\n",
       "      <td>2 años</td>\n",
       "      <td>x pastor border colie</td>\n",
       "      <td>♂ Macho</td>\n",
       "    </tr>\n",
       "    <tr>\n",
       "      <th>1</th>\n",
       "      <td>2 años y 1 mes</td>\n",
       "      <td>x american stanfford con ... ?</td>\n",
       "      <td>♂ Macho</td>\n",
       "    </tr>\n",
       "    <tr>\n",
       "      <th>2</th>\n",
       "      <td>3 años y 4 meses</td>\n",
       "      <td>xlabrador</td>\n",
       "      <td>♂ Macho</td>\n",
       "    </tr>\n",
       "    <tr>\n",
       "      <th>3</th>\n",
       "      <td>4 años y 5 meses</td>\n",
       "      <td>pastor aleman</td>\n",
       "      <td>♂ Macho</td>\n",
       "    </tr>\n",
       "    <tr>\n",
       "      <th>4</th>\n",
       "      <td>9 años</td>\n",
       "      <td>american staffordshire</td>\n",
       "      <td>♂ Macho</td>\n",
       "    </tr>\n",
       "    <tr>\n",
       "      <th>5</th>\n",
       "      <td>11 años</td>\n",
       "      <td>x american sttafford</td>\n",
       "      <td>♂ Macho</td>\n",
       "    </tr>\n",
       "  </tbody>\n",
       "</table>\n",
       "</div>"
      ],
      "text/plain": [
       "                Edad                             Raza       Sexo\n",
       "0             2 años            x pastor border colie    ♂ Macho\n",
       "1     2 años y 1 mes   x american stanfford con ... ?    ♂ Macho\n",
       "2   3 años y 4 meses                        xlabrador    ♂ Macho\n",
       "3   4 años y 5 meses                    pastor aleman    ♂ Macho\n",
       "4             9 años           american staffordshire    ♂ Macho\n",
       "5            11 años             x american sttafford    ♂ Macho"
      ]
     },
     "execution_count": 39,
     "metadata": {},
     "output_type": "execute_result"
    }
   ],
   "source": [
    "# Cambio de nombre de las columnas del DataFrame\n",
    "df.columns = ['Edad', 'Raza', 'Sexo']\n",
    "df"
   ]
  }
 ],
 "metadata": {
  "kernelspec": {
   "display_name": "Python 3",
   "language": "python",
   "name": "python3"
  },
  "language_info": {
   "codemirror_mode": {
    "name": "ipython",
    "version": 3
   },
   "file_extension": ".py",
   "mimetype": "text/x-python",
   "name": "python",
   "nbconvert_exporter": "python",
   "pygments_lexer": "ipython3",
   "version": "3.8.3"
  }
 },
 "nbformat": 4,
 "nbformat_minor": 4
}
